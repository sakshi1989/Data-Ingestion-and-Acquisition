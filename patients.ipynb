{
 "cells": [
  {
   "cell_type": "code",
   "execution_count": 1,
   "metadata": {},
   "outputs": [],
   "source": [
    "import pandas as pd\n",
    "import datetime\n",
    "import numpy as np\n",
    "# import pymysql\n",
    "import urllib.parse\n",
    "from sqlalchemy import (create_engine,MetaData,Table,Column)\n",
    "from sqlalchemy.dialects.mysql import (TINYINT, VARCHAR, DATE, DATETIME, INTEGER)\n",
    "from matplotlib import pyplot as plt\n",
    "import seaborn as sns\n",
    "from sklearn.preprocessing import OrdinalEncoder, OneHotEncoder\n",
    "from sklearn.ensemble import HistGradientBoostingClassifier, RandomForestClassifier\n",
    "from sklearn.linear_model import LogisticRegression\n",
    "from sklearn_pandas import DataFrameMapper\n",
    "from sklearn.model_selection import StratifiedKFold\n",
    "from sklearn.tree import DecisionTreeClassifier\n",
    "from scipy.stats import chi2_contingency\n",
    "import plotly.io as pio\n",
    "import json\n",
    "# import kaleido\n",
    "\n",
    "# Need to do this for Github, as plotly interactive does not work there\n",
    "pio.renderers.default = \"png\"\n",
    "\n",
    "pd.options.plotting.backend = \"plotly\""
   ]
  },
  {
   "cell_type": "markdown",
   "metadata": {},
   "source": [
    "**Connection to MySQL**"
   ]
  },
  {
   "cell_type": "markdown",
   "metadata": {},
   "source": [
    "*create_engine will create the Dialect Object as well as Pool object in order to establish a DBAPI connection at the host:port provided when connection request is first received. The Engine will not establish the first actual DBAPI connection until the \"Engine.connect()\" method or the operation dependent on this method like \"Engine.execute()\" is invoked.Once the method/operation is invoked, Engine requests a connection from the underlying Pool which in turn will establish the first actual DBAPI connection.The create_engine() call itself does not establish any actual DBAPI connections directly.\n",
    "The Engine, once created, can either be used directly to interact with the database(SQLAlchemy Core), or can be passed to a Session object to work with the ORM.*  "
   ]
  },
  {
   "cell_type": "code",
   "execution_count": 5,
   "metadata": {},
   "outputs": [],
   "source": [
    "# Load credentials from JSON file\n",
    "with open('credentials.json') as f:\n",
    "    credentials = json.load(f)\n",
    "\n",
    "# Parse the password from JSON file\n",
    "encoded_pwd = urllib.parse.quote_plus(credentials['password'])\n",
    "# print(encoded_pwd)\n",
    "\n",
    "# Build MySQL connection string\n",
    "connection_string = f\"mysql+pymysql://{credentials['user']}:{encoded_pwd}@{credentials['host']}:{credentials['port']}/{credentials['dbname']}\"\n",
    "\n",
    "# print(connection_string)\n",
    "# Create SQLAlchemy engine\n",
    "sqlEngine = create_engine(connection_string)\n",
    "\n",
    "# Use the engine to connect to the database\n",
    "connection = sqlEngine.connect()"
   ]
  },
  {
   "cell_type": "markdown",
   "metadata": {},
   "source": [
    "### Test for the successful connection"
   ]
  },
  {
   "cell_type": "code",
   "execution_count": 6,
   "metadata": {},
   "outputs": [
    {
     "name": "stdout",
     "output_type": "stream",
     "text": [
      "(2,)\n"
     ]
    }
   ],
   "source": [
    "# Execute a test query\n",
    "result = connection.execute('SELECT 2')\n",
    "\n",
    "# Print the result\n",
    "print(result.fetchone())"
   ]
  },
  {
   "cell_type": "markdown",
   "metadata": {},
   "source": [
    "**Creating Table Structure and sending it to MySQL database**"
   ]
  },
  {
   "cell_type": "code",
   "execution_count": 7,
   "metadata": {},
   "outputs": [],
   "source": [
    "# Metadata --> will store a series of table objects. This is helpful when you are creating mutiple tables dependent on each other, as you can\n",
    "# call the create_all() method of Metadata to create all tables together --> metadata_obj.create_all(sqlEngine)\n",
    "metadata_obj = MetaData()\n",
    "# Table object is assigned to the variable\n",
    "patient = Table('patient', metadata_obj,\n",
    "    Column('patient_id', INTEGER,primary_key=True,autoincrement=False),\n",
    "    Column('given_name', VARCHAR(45), nullable=False),\n",
    "    Column('family_name', VARCHAR(45), nullable=False),\n",
    "    Column('gender', VARCHAR(45), nullable=False),\n",
    "    Column('date_of_birth', DATE, nullable=False),\n",
    "    Column('date_of_death', DATETIME, nullable=False),\n",
    "    Column('city', VARCHAR(45),nullable=True ),\n",
    "    Column('state', VARCHAR(45),nullable=True ),\n",
    "    Column('phone', VARCHAR(45),nullable=True ),\n",
    "    Column('death_by_natural_cause', TINYINT,nullable=True ),\n",
    "    Column('alcohol_intake', VARCHAR(45),nullable=True ),\n",
    "    Column('nicotine_intake', VARCHAR(45),nullable=True ),\n",
    "    Column('race', VARCHAR(45),nullable=True ),\n",
    "    Column('bmi', VARCHAR(45),nullable=True ),\n",
    "    Column('health_issues', TINYINT,nullable=True ),\n",
    "    mysql_engine='InnoDB',\n",
    "    mysql_charset='utf8mb4'\n",
    "    # mysql_collate = 'utf8mb4_0900_ai_ci'\n",
    "    \n",
    ")\n",
    "patient.create(sqlEngine,checkfirst=True)"
   ]
  },
  {
   "cell_type": "markdown",
   "metadata": {},
   "source": [
    "**Retrieving the data from URL into dataframe**"
   ]
  },
  {
   "cell_type": "code",
   "execution_count": 8,
   "metadata": {},
   "outputs": [
    {
     "data": {
      "text/html": [
       "<div>\n",
       "<style scoped>\n",
       "    .dataframe tbody tr th:only-of-type {\n",
       "        vertical-align: middle;\n",
       "    }\n",
       "\n",
       "    .dataframe tbody tr th {\n",
       "        vertical-align: top;\n",
       "    }\n",
       "\n",
       "    .dataframe thead th {\n",
       "        text-align: right;\n",
       "    }\n",
       "</style>\n",
       "<table border=\"1\" class=\"dataframe\">\n",
       "  <thead>\n",
       "    <tr style=\"text-align: right;\">\n",
       "      <th></th>\n",
       "      <th>patient_id</th>\n",
       "      <th>given_name</th>\n",
       "      <th>family_name</th>\n",
       "      <th>gender</th>\n",
       "      <th>date_of_birth</th>\n",
       "      <th>date_of_death</th>\n",
       "      <th>city</th>\n",
       "      <th>state</th>\n",
       "      <th>phone</th>\n",
       "      <th>death_by_natural_cause</th>\n",
       "      <th>alcohol_intake</th>\n",
       "      <th>nicotine_intake</th>\n",
       "      <th>race</th>\n",
       "      <th>bmi</th>\n",
       "      <th>health_issues</th>\n",
       "    </tr>\n",
       "  </thead>\n",
       "  <tbody>\n",
       "    <tr>\n",
       "      <th>0</th>\n",
       "      <td>7949473</td>\n",
       "      <td>Gaynor</td>\n",
       "      <td>Titta</td>\n",
       "      <td>Female</td>\n",
       "      <td>6/4/46</td>\n",
       "      <td>10/22/16 15:42</td>\n",
       "      <td>West Palm Beach</td>\n",
       "      <td>Florida</td>\n",
       "      <td>561-553-2724</td>\n",
       "      <td>0</td>\n",
       "      <td>Never</td>\n",
       "      <td>Never</td>\n",
       "      <td>Asian</td>\n",
       "      <td>Normal</td>\n",
       "      <td>1</td>\n",
       "    </tr>\n",
       "    <tr>\n",
       "      <th>1</th>\n",
       "      <td>9662622</td>\n",
       "      <td>Oona</td>\n",
       "      <td>Pusill</td>\n",
       "      <td>Female</td>\n",
       "      <td>11/26/65</td>\n",
       "      <td>5/17/16 22:33</td>\n",
       "      <td>Hollywood</td>\n",
       "      <td>Florida</td>\n",
       "      <td>954-178-3132</td>\n",
       "      <td>0</td>\n",
       "      <td>Often</td>\n",
       "      <td>Often</td>\n",
       "      <td>Alaska Native</td>\n",
       "      <td>Over weight</td>\n",
       "      <td>1</td>\n",
       "    </tr>\n",
       "    <tr>\n",
       "      <th>2</th>\n",
       "      <td>6716847</td>\n",
       "      <td>Yetta</td>\n",
       "      <td>Taysbil</td>\n",
       "      <td>Male</td>\n",
       "      <td>9/14/47</td>\n",
       "      <td>11/16/07 10:39</td>\n",
       "      <td>Jersey City</td>\n",
       "      <td>New Jersey</td>\n",
       "      <td>201-765-7538</td>\n",
       "      <td>0</td>\n",
       "      <td>Never</td>\n",
       "      <td>Never</td>\n",
       "      <td>African American</td>\n",
       "      <td>Under weight</td>\n",
       "      <td>1</td>\n",
       "    </tr>\n",
       "    <tr>\n",
       "      <th>3</th>\n",
       "      <td>8349189</td>\n",
       "      <td>Farrah</td>\n",
       "      <td>Bartles</td>\n",
       "      <td>Male</td>\n",
       "      <td>12/8/97</td>\n",
       "      <td>2/18/00 1:18</td>\n",
       "      <td>Murfreesboro</td>\n",
       "      <td>Tennessee</td>\n",
       "      <td>615-130-9597</td>\n",
       "      <td>0</td>\n",
       "      <td>Often</td>\n",
       "      <td>Often</td>\n",
       "      <td>Alaska Native</td>\n",
       "      <td>Over weight</td>\n",
       "      <td>0</td>\n",
       "    </tr>\n",
       "    <tr>\n",
       "      <th>4</th>\n",
       "      <td>3790901</td>\n",
       "      <td>Richardo</td>\n",
       "      <td>Hedau</td>\n",
       "      <td>Bigender</td>\n",
       "      <td>7/11/77</td>\n",
       "      <td>12/24/93 11:05</td>\n",
       "      <td>Reston</td>\n",
       "      <td>Virginia</td>\n",
       "      <td>571-153-4428</td>\n",
       "      <td>1</td>\n",
       "      <td>Never</td>\n",
       "      <td>Occasionally</td>\n",
       "      <td>Native Hawaiian</td>\n",
       "      <td>Normal</td>\n",
       "      <td>1</td>\n",
       "    </tr>\n",
       "  </tbody>\n",
       "</table>\n",
       "</div>"
      ],
      "text/plain": [
       "   patient_id given_name family_name    gender date_of_birth   date_of_death  \\\n",
       "0     7949473     Gaynor       Titta    Female        6/4/46  10/22/16 15:42   \n",
       "1     9662622       Oona      Pusill    Female      11/26/65   5/17/16 22:33   \n",
       "2     6716847      Yetta     Taysbil      Male       9/14/47  11/16/07 10:39   \n",
       "3     8349189     Farrah     Bartles      Male       12/8/97    2/18/00 1:18   \n",
       "4     3790901   Richardo       Hedau  Bigender       7/11/77  12/24/93 11:05   \n",
       "\n",
       "              city       state         phone  death_by_natural_cause  \\\n",
       "0  West Palm Beach     Florida  561-553-2724                       0   \n",
       "1        Hollywood     Florida  954-178-3132                       0   \n",
       "2      Jersey City  New Jersey  201-765-7538                       0   \n",
       "3     Murfreesboro   Tennessee  615-130-9597                       0   \n",
       "4           Reston    Virginia  571-153-4428                       1   \n",
       "\n",
       "  alcohol_intake nicotine_intake              race           bmi  \\\n",
       "0          Never           Never             Asian        Normal   \n",
       "1          Often           Often     Alaska Native   Over weight   \n",
       "2          Never           Never  African American  Under weight   \n",
       "3          Often           Often     Alaska Native   Over weight   \n",
       "4          Never    Occasionally   Native Hawaiian        Normal   \n",
       "\n",
       "   health_issues  \n",
       "0              1  \n",
       "1              1  \n",
       "2              1  \n",
       "3              0  \n",
       "4              1  "
      ]
     },
     "execution_count": 8,
     "metadata": {},
     "output_type": "execute_result"
    }
   ],
   "source": [
    "# URL where data is hosted\n",
    "url = 'https://raw.githubusercontent.com/nthammadi-uncc/DataAcquisition/main/Data/patient_data.csv'\n",
    "# Reading csv format data and dumping data into dataframe\n",
    "df_patients = pd.read_csv(filepath_or_buffer=url)\n",
    "# Displaying first 5 records of the dataframe\n",
    "df_patients.head()"
   ]
  },
  {
   "cell_type": "code",
   "execution_count": 9,
   "metadata": {},
   "outputs": [
    {
     "name": "stdout",
     "output_type": "stream",
     "text": [
      "<class 'pandas.core.frame.DataFrame'>\n",
      "RangeIndex: 10000 entries, 0 to 9999\n",
      "Data columns (total 15 columns):\n",
      " #   Column                  Non-Null Count  Dtype \n",
      "---  ------                  --------------  ----- \n",
      " 0   patient_id              10000 non-null  int64 \n",
      " 1   given_name              10000 non-null  object\n",
      " 2   family_name             10000 non-null  object\n",
      " 3   gender                  10000 non-null  object\n",
      " 4   date_of_birth           10000 non-null  object\n",
      " 5   date_of_death           10000 non-null  object\n",
      " 6   city                    10000 non-null  object\n",
      " 7   state                   10000 non-null  object\n",
      " 8   phone                   10000 non-null  object\n",
      " 9   death_by_natural_cause  10000 non-null  int64 \n",
      " 10  alcohol_intake          10000 non-null  object\n",
      " 11  nicotine_intake         10000 non-null  object\n",
      " 12  race                    10000 non-null  object\n",
      " 13  bmi                     10000 non-null  object\n",
      " 14  health_issues           10000 non-null  int64 \n",
      "dtypes: int64(3), object(12)\n",
      "memory usage: 1.1+ MB\n"
     ]
    }
   ],
   "source": [
    "# columns information and info about non-null values\n",
    "df_patients.info()"
   ]
  },
  {
   "cell_type": "code",
   "execution_count": 10,
   "metadata": {},
   "outputs": [],
   "source": [
    "# Converting two digit year to four digit year\n",
    "def parse_date(row):    \n",
    "    parsed = datetime.datetime.strptime(row.date_of_birth,'%m/%d/%y')    \n",
    "    if parsed > row.date_of_death:\n",
    "        parsed = parsed.replace(year=parsed.year - 100)\n",
    "    return parsed\n",
    "\n",
    "def parse_datetime(date_str):\n",
    "    parsed = datetime.datetime.strptime(date_str,'%m/%d/%y %H:%M')\n",
    "    current_date = datetime.datetime.now()\n",
    "    if parsed > current_date:\n",
    "        parsed = parsed.replace(year=parsed.year - 100)\n",
    "    return parsed\n",
    "\n",
    "df_patients['date_of_death'] = df_patients['date_of_death'].apply(func=parse_datetime)\n",
    "df_patients['date_of_birth'] = df_patients.apply(func=parse_date,axis=1)"
   ]
  },
  {
   "cell_type": "code",
   "execution_count": 11,
   "metadata": {},
   "outputs": [
    {
     "data": {
      "text/html": [
       "<div>\n",
       "<style scoped>\n",
       "    .dataframe tbody tr th:only-of-type {\n",
       "        vertical-align: middle;\n",
       "    }\n",
       "\n",
       "    .dataframe tbody tr th {\n",
       "        vertical-align: top;\n",
       "    }\n",
       "\n",
       "    .dataframe thead th {\n",
       "        text-align: right;\n",
       "    }\n",
       "</style>\n",
       "<table border=\"1\" class=\"dataframe\">\n",
       "  <thead>\n",
       "    <tr style=\"text-align: right;\">\n",
       "      <th></th>\n",
       "      <th>patient_id</th>\n",
       "      <th>given_name</th>\n",
       "      <th>family_name</th>\n",
       "      <th>gender</th>\n",
       "      <th>date_of_birth</th>\n",
       "      <th>date_of_death</th>\n",
       "      <th>city</th>\n",
       "      <th>state</th>\n",
       "      <th>phone</th>\n",
       "      <th>death_by_natural_cause</th>\n",
       "      <th>alcohol_intake</th>\n",
       "      <th>nicotine_intake</th>\n",
       "      <th>race</th>\n",
       "      <th>bmi</th>\n",
       "      <th>health_issues</th>\n",
       "    </tr>\n",
       "  </thead>\n",
       "  <tbody>\n",
       "  </tbody>\n",
       "</table>\n",
       "</div>"
      ],
      "text/plain": [
       "Empty DataFrame\n",
       "Columns: [patient_id, given_name, family_name, gender, date_of_birth, date_of_death, city, state, phone, death_by_natural_cause, alcohol_intake, nicotine_intake, race, bmi, health_issues]\n",
       "Index: []"
      ]
     },
     "execution_count": 11,
     "metadata": {},
     "output_type": "execute_result"
    }
   ],
   "source": [
    "# Check if dob is greater than dod\n",
    "df_patients[df_patients['date_of_birth'] > df_patients['date_of_death'] ]"
   ]
  },
  {
   "cell_type": "markdown",
   "metadata": {},
   "source": [
    "**Transfering data to MySQL patient table from pandas dataframe**"
   ]
  },
  {
   "cell_type": "code",
   "execution_count": 12,
   "metadata": {},
   "outputs": [
    {
     "data": {
      "text/plain": [
       "10000"
      ]
     },
     "execution_count": 12,
     "metadata": {},
     "output_type": "execute_result"
    }
   ],
   "source": [
    "# Pass the dataframe data to the MySql table. \n",
    "#  name--> table name, con--> object of engine, schema--> where the table exists, if_exists-->if values already exist what behavior we want,\n",
    "#  index--> since we do not want to use dataframe index as one of the column in our database, we will set it as False\n",
    "# sqlEngine.execute('DELETE from patient')\n",
    "df_patients.to_sql(name='patient',con=sqlEngine,schema='patient_db',if_exists='replace',index=False)"
   ]
  },
  {
   "cell_type": "markdown",
   "metadata": {},
   "source": [
    "**Reading Data from MySQL into Pandas dataframe**"
   ]
  },
  {
   "cell_type": "code",
   "execution_count": 13,
   "metadata": {},
   "outputs": [],
   "source": [
    "# Variable that will hold query. Created a generic query so that it can be used again by passing the values in \"params\"\n",
    "#  parameter of read_sql_query()\n",
    "query = \"SELECT * FROM patient WHERE alcohol_intake <> %s AND nicotine_intake <> %s\""
   ]
  },
  {
   "cell_type": "code",
   "execution_count": 14,
   "metadata": {},
   "outputs": [],
   "source": [
    "# Retrieving the data from database. Our sqlEngine has the schema name already, so it will correctly locate the table used in select statement\n",
    "df_sqldata = pd.read_sql_query(sql=query,con=sqlEngine,params=['Never','Never'],parse_dates=['date_of_birth','date_of_death'])"
   ]
  },
  {
   "cell_type": "code",
   "execution_count": 15,
   "metadata": {},
   "outputs": [],
   "source": [
    "# To dispose engine’s underlying connection pool \n",
    "sqlEngine.dispose()"
   ]
  },
  {
   "cell_type": "markdown",
   "metadata": {},
   "source": [
    "**Visualization of data using plotly for nicotine-intake**"
   ]
  },
  {
   "cell_type": "code",
   "execution_count": 16,
   "metadata": {},
   "outputs": [],
   "source": [
    "# Get count by gender\n",
    "df_gender_cnt = df_sqldata.groupby('gender')['patient_id'].count()\n",
    "# get count of frequency(Daily,Occasionally and Often) of nicotine_intake for each gender\n",
    "df_gender_nicotine_cnt = df_sqldata.groupby(by=['gender', 'nicotine_intake'])['patient_id'].count()"
   ]
  },
  {
   "cell_type": "code",
   "execution_count": 17,
   "metadata": {},
   "outputs": [
    {
     "data": {
      "text/plain": [
       "gender\n",
       "Bigender       160\n",
       "Female        1746\n",
       "Male          1972\n",
       "Non-binary      74\n",
       "Name: patient_id, dtype: int64"
      ]
     },
     "execution_count": 17,
     "metadata": {},
     "output_type": "execute_result"
    }
   ],
   "source": [
    "# Display the data for gender count\n",
    "df_gender_cnt"
   ]
  },
  {
   "cell_type": "code",
   "execution_count": 18,
   "metadata": {},
   "outputs": [
    {
     "data": {
      "text/plain": [
       "gender      nicotine_intake\n",
       "Bigender    Daily               38\n",
       "            Occasionally        58\n",
       "            Often               64\n",
       "Female      Daily              347\n",
       "            Occasionally       704\n",
       "            Often              695\n",
       "Male        Daily              396\n",
       "            Occasionally       776\n",
       "            Often              800\n",
       "Non-binary  Daily               10\n",
       "            Occasionally        34\n",
       "            Often               30\n",
       "Name: patient_id, dtype: int64"
      ]
     },
     "execution_count": 18,
     "metadata": {},
     "output_type": "execute_result"
    }
   ],
   "source": [
    "# Display the data for nicotine_intake for each gender\n",
    "df_gender_nicotine_cnt"
   ]
  },
  {
   "cell_type": "code",
   "execution_count": 19,
   "metadata": {},
   "outputs": [
    {
     "data": {
      "text/html": [
       "<div>\n",
       "<style scoped>\n",
       "    .dataframe tbody tr th:only-of-type {\n",
       "        vertical-align: middle;\n",
       "    }\n",
       "\n",
       "    .dataframe tbody tr th {\n",
       "        vertical-align: top;\n",
       "    }\n",
       "\n",
       "    .dataframe thead th {\n",
       "        text-align: right;\n",
       "    }\n",
       "</style>\n",
       "<table border=\"1\" class=\"dataframe\">\n",
       "  <thead>\n",
       "    <tr style=\"text-align: right;\">\n",
       "      <th></th>\n",
       "      <th>gender</th>\n",
       "      <th>nicotine_intake</th>\n",
       "      <th>proportion</th>\n",
       "    </tr>\n",
       "  </thead>\n",
       "  <tbody>\n",
       "    <tr>\n",
       "      <th>0</th>\n",
       "      <td>Bigender</td>\n",
       "      <td>Daily</td>\n",
       "      <td>23.750000</td>\n",
       "    </tr>\n",
       "    <tr>\n",
       "      <th>1</th>\n",
       "      <td>Bigender</td>\n",
       "      <td>Occasionally</td>\n",
       "      <td>36.250000</td>\n",
       "    </tr>\n",
       "    <tr>\n",
       "      <th>2</th>\n",
       "      <td>Bigender</td>\n",
       "      <td>Often</td>\n",
       "      <td>40.000000</td>\n",
       "    </tr>\n",
       "    <tr>\n",
       "      <th>3</th>\n",
       "      <td>Female</td>\n",
       "      <td>Daily</td>\n",
       "      <td>19.873998</td>\n",
       "    </tr>\n",
       "    <tr>\n",
       "      <th>4</th>\n",
       "      <td>Female</td>\n",
       "      <td>Occasionally</td>\n",
       "      <td>40.320733</td>\n",
       "    </tr>\n",
       "    <tr>\n",
       "      <th>5</th>\n",
       "      <td>Female</td>\n",
       "      <td>Often</td>\n",
       "      <td>39.805269</td>\n",
       "    </tr>\n",
       "    <tr>\n",
       "      <th>6</th>\n",
       "      <td>Male</td>\n",
       "      <td>Daily</td>\n",
       "      <td>20.081136</td>\n",
       "    </tr>\n",
       "    <tr>\n",
       "      <th>7</th>\n",
       "      <td>Male</td>\n",
       "      <td>Occasionally</td>\n",
       "      <td>39.350913</td>\n",
       "    </tr>\n",
       "    <tr>\n",
       "      <th>8</th>\n",
       "      <td>Male</td>\n",
       "      <td>Often</td>\n",
       "      <td>40.567951</td>\n",
       "    </tr>\n",
       "    <tr>\n",
       "      <th>9</th>\n",
       "      <td>Non-binary</td>\n",
       "      <td>Daily</td>\n",
       "      <td>13.513514</td>\n",
       "    </tr>\n",
       "    <tr>\n",
       "      <th>10</th>\n",
       "      <td>Non-binary</td>\n",
       "      <td>Occasionally</td>\n",
       "      <td>45.945946</td>\n",
       "    </tr>\n",
       "    <tr>\n",
       "      <th>11</th>\n",
       "      <td>Non-binary</td>\n",
       "      <td>Often</td>\n",
       "      <td>40.540541</td>\n",
       "    </tr>\n",
       "  </tbody>\n",
       "</table>\n",
       "</div>"
      ],
      "text/plain": [
       "        gender nicotine_intake  proportion\n",
       "0     Bigender           Daily   23.750000\n",
       "1     Bigender    Occasionally   36.250000\n",
       "2     Bigender           Often   40.000000\n",
       "3       Female           Daily   19.873998\n",
       "4       Female    Occasionally   40.320733\n",
       "5       Female           Often   39.805269\n",
       "6         Male           Daily   20.081136\n",
       "7         Male    Occasionally   39.350913\n",
       "8         Male           Often   40.567951\n",
       "9   Non-binary           Daily   13.513514\n",
       "10  Non-binary    Occasionally   45.945946\n",
       "11  Non-binary           Often   40.540541"
      ]
     },
     "execution_count": 19,
     "metadata": {},
     "output_type": "execute_result"
    }
   ],
   "source": [
    "# Get the percentage of nicotine_intake --> daily,occassionally and often\n",
    "df_nicotine_percentage = df_gender_nicotine_cnt.div(df_gender_cnt, level=0) * 100\n",
    "df_nicotine_perc = df_nicotine_percentage.reset_index().rename({'patient_id':'proportion'},axis=1)\n",
    "df_nicotine_perc"
   ]
  },
  {
   "cell_type": "code",
   "execution_count": 20,
   "metadata": {},
   "outputs": [
    {
     "data": {
      "image/png": "[encoded data removed]"
     },
     "metadata": {},
     "output_type": "display_data"
    }
   ],
   "source": [
    "# Plotting graphs for each value of nicotine_intake based on gender and the proportion\n",
    "fig = df_nicotine_perc.plot.bar(x='gender', y='proportion', facet_col='nicotine_intake',\n",
    "                                color_discrete_map={\"Daily\":\"red\",\"Occasionally\":\"green\",\"Often\":'magenta'}, width=1500)\n",
    "fig.update_traces(marker_color='magenta', col=1)\n",
    "fig.update_traces(marker_color='red', col=2)\n",
    "fig.update_traces(marker_color='green', col=3)\n",
    "fig.show()"
   ]
  },
  {
   "cell_type": "markdown",
   "metadata": {},
   "source": [
    "**Visualization of data using plotly for alcohol-intake**"
   ]
  },
  {
   "cell_type": "code",
   "execution_count": 21,
   "metadata": {},
   "outputs": [
    {
     "data": {
      "text/html": [
       "<div>\n",
       "<style scoped>\n",
       "    .dataframe tbody tr th:only-of-type {\n",
       "        vertical-align: middle;\n",
       "    }\n",
       "\n",
       "    .dataframe tbody tr th {\n",
       "        vertical-align: top;\n",
       "    }\n",
       "\n",
       "    .dataframe thead th {\n",
       "        text-align: right;\n",
       "    }\n",
       "</style>\n",
       "<table border=\"1\" class=\"dataframe\">\n",
       "  <thead>\n",
       "    <tr style=\"text-align: right;\">\n",
       "      <th></th>\n",
       "      <th>gender</th>\n",
       "      <th>alcohol_intake</th>\n",
       "      <th>proportion</th>\n",
       "    </tr>\n",
       "  </thead>\n",
       "  <tbody>\n",
       "    <tr>\n",
       "      <th>0</th>\n",
       "      <td>Bigender</td>\n",
       "      <td>Daily</td>\n",
       "      <td>18.750000</td>\n",
       "    </tr>\n",
       "    <tr>\n",
       "      <th>1</th>\n",
       "      <td>Bigender</td>\n",
       "      <td>Occasionally</td>\n",
       "      <td>38.750000</td>\n",
       "    </tr>\n",
       "    <tr>\n",
       "      <th>2</th>\n",
       "      <td>Bigender</td>\n",
       "      <td>Often</td>\n",
       "      <td>42.500000</td>\n",
       "    </tr>\n",
       "    <tr>\n",
       "      <th>3</th>\n",
       "      <td>Female</td>\n",
       "      <td>Daily</td>\n",
       "      <td>19.014891</td>\n",
       "    </tr>\n",
       "    <tr>\n",
       "      <th>4</th>\n",
       "      <td>Female</td>\n",
       "      <td>Occasionally</td>\n",
       "      <td>37.686140</td>\n",
       "    </tr>\n",
       "    <tr>\n",
       "      <th>5</th>\n",
       "      <td>Female</td>\n",
       "      <td>Often</td>\n",
       "      <td>43.298969</td>\n",
       "    </tr>\n",
       "    <tr>\n",
       "      <th>6</th>\n",
       "      <td>Male</td>\n",
       "      <td>Daily</td>\n",
       "      <td>19.979716</td>\n",
       "    </tr>\n",
       "    <tr>\n",
       "      <th>7</th>\n",
       "      <td>Male</td>\n",
       "      <td>Occasionally</td>\n",
       "      <td>39.959432</td>\n",
       "    </tr>\n",
       "    <tr>\n",
       "      <th>8</th>\n",
       "      <td>Male</td>\n",
       "      <td>Often</td>\n",
       "      <td>40.060852</td>\n",
       "    </tr>\n",
       "    <tr>\n",
       "      <th>9</th>\n",
       "      <td>Non-binary</td>\n",
       "      <td>Daily</td>\n",
       "      <td>17.567568</td>\n",
       "    </tr>\n",
       "    <tr>\n",
       "      <th>10</th>\n",
       "      <td>Non-binary</td>\n",
       "      <td>Occasionally</td>\n",
       "      <td>35.135135</td>\n",
       "    </tr>\n",
       "    <tr>\n",
       "      <th>11</th>\n",
       "      <td>Non-binary</td>\n",
       "      <td>Often</td>\n",
       "      <td>47.297297</td>\n",
       "    </tr>\n",
       "  </tbody>\n",
       "</table>\n",
       "</div>"
      ],
      "text/plain": [
       "        gender alcohol_intake  proportion\n",
       "0     Bigender          Daily   18.750000\n",
       "1     Bigender   Occasionally   38.750000\n",
       "2     Bigender          Often   42.500000\n",
       "3       Female          Daily   19.014891\n",
       "4       Female   Occasionally   37.686140\n",
       "5       Female          Often   43.298969\n",
       "6         Male          Daily   19.979716\n",
       "7         Male   Occasionally   39.959432\n",
       "8         Male          Often   40.060852\n",
       "9   Non-binary          Daily   17.567568\n",
       "10  Non-binary   Occasionally   35.135135\n",
       "11  Non-binary          Often   47.297297"
      ]
     },
     "execution_count": 21,
     "metadata": {},
     "output_type": "execute_result"
    }
   ],
   "source": [
    "# get count of frequency(Daily,Occasionally and Often) of alcohol_intake for each gender\n",
    "ser_gender_alcohol_cnt = df_sqldata.groupby(by=['gender', 'alcohol_intake'])['patient_id'].count()\n",
    "# Get the percentage of alcohol_intake --> daily,occassionally and often\n",
    "ser_alcohol_percentage = ser_gender_alcohol_cnt.div(df_gender_cnt, level=0) * 100\n",
    "df_alcohol_perc = ser_alcohol_percentage.reset_index().rename({'patient_id':'proportion'},axis=1)\n",
    "df_alcohol_perc"
   ]
  },
  {
   "cell_type": "code",
   "execution_count": 22,
   "metadata": {},
   "outputs": [
    {
     "data": {
      "image/png": "[encoded data removed]"
     },
     "metadata": {},
     "output_type": "display_data"
    }
   ],
   "source": [
    "# Plotting graphs for each value of alcohol_intake based on gender and the proportion\n",
    "fig2 = df_alcohol_perc.plot.bar(x='gender', y='proportion', facet_col='alcohol_intake', width=1500)\n",
    "fig2.update_traces(marker_color='#FF6692', col=1)\n",
    "fig2.update_traces(marker_color='#FECB52', col=2)\n",
    "fig2.update_traces(marker_color='#B6E880', col=3)\n",
    "fig2.show()"
   ]
  },
  {
   "cell_type": "markdown",
   "metadata": {},
   "source": [
    "**Classification Models**\n",
    "\n",
    "Exploratory Data Analysis"
   ]
  },
  {
   "cell_type": "code",
   "execution_count": 23,
   "metadata": {},
   "outputs": [
    {
     "data": {
      "text/plain": [
       "patient_id                0\n",
       "given_name                0\n",
       "family_name               0\n",
       "gender                    0\n",
       "date_of_birth             0\n",
       "date_of_death             0\n",
       "city                      0\n",
       "state                     0\n",
       "phone                     0\n",
       "death_by_natural_cause    0\n",
       "alcohol_intake            0\n",
       "nicotine_intake           0\n",
       "race                      0\n",
       "bmi                       0\n",
       "health_issues             0\n",
       "dtype: int64"
      ]
     },
     "execution_count": 23,
     "metadata": {},
     "output_type": "execute_result"
    }
   ],
   "source": [
    "# Finding null count in features\n",
    "df_patients.isnull().sum()"
   ]
  },
  {
   "cell_type": "code",
   "execution_count": 24,
   "metadata": {},
   "outputs": [],
   "source": [
    "# Creating new feature --> Age\n",
    "df_patients['age'] = (df_patients['date_of_death'] - df_patients['date_of_birth']).astype('timedelta64[Y]').astype('int')\n",
    "df_patients = df_patients[df_patients.age > 10]"
   ]
  },
  {
   "cell_type": "code",
   "execution_count": 25,
   "metadata": {},
   "outputs": [
    {
     "name": "stdout",
     "output_type": "stream",
     "text": [
      "The number of unique values for feature patient_id is 8778\n",
      "The number of unique values for feature given_name is 5440\n",
      "The number of unique values for feature family_name is 8034\n",
      "The number of unique values for feature gender is 4 --> ['Bigender' 'Female' 'Male' 'Non-binary']\n",
      "The number of unique values for feature date_of_birth is 7767\n",
      "The number of unique values for feature date_of_death is 8774\n",
      "The number of unique values for feature city is 459\n",
      "The number of unique values for feature state is 51\n",
      "The number of unique values for feature phone is 8778\n",
      "The number of unique values for feature death_by_natural_cause is 2 --> [0 1]\n",
      "The number of unique values for feature alcohol_intake is 4 --> ['Daily' 'Never' 'Occasionally' 'Often']\n",
      "The number of unique values for feature nicotine_intake is 4 --> ['Daily' 'Never' 'Occasionally' 'Often']\n",
      "The number of unique values for feature race is 6 --> ['African American' 'Alaska Native' 'Asian' 'Native Hawaiian'\n",
      " 'Pacific Islander' 'White']\n",
      "The number of unique values for feature bmi is 4 --> ['Normal' 'Obese' 'Over weight' 'Under weight']\n",
      "The number of unique values for feature health_issues is 2 --> [0 1]\n",
      "The number of unique values for feature age is 89\n"
     ]
    }
   ],
   "source": [
    "# Investigate features by printing their values. \n",
    "for column in df_patients:\n",
    "    unique_value = np.unique(df_patients[column])\n",
    "    len_unique_val = len(unique_value)\n",
    "    if len_unique_val < 10:\n",
    "        print('The number of unique values for feature {} is {} --> {}'.format(column,len_unique_val,unique_value))\n",
    "    else:\n",
    "        print('The number of unique values for feature {} is {}'.format(column,len_unique_val))"
   ]
  },
  {
   "cell_type": "code",
   "execution_count": 26,
   "metadata": {},
   "outputs": [
    {
     "data": {
      "text/plain": [
       "<AxesSubplot:xlabel='health_issues', ylabel='count'>"
      ]
     },
     "execution_count": 26,
     "metadata": {},
     "output_type": "execute_result"
    },
    {
     "data": {
      "image/png": "[encoded data removed]",
      "text/plain": [
       "<Figure size 432x288 with 1 Axes>"
      ]
     },
     "metadata": {
      "needs_background": "light"
     },
     "output_type": "display_data"
    }
   ],
   "source": [
    "# Investigating the distribution of y variable --> death_by_natural_cause\n",
    "sns.countplot(x = 'health_issues',data=df_patients,palette='Set3')"
   ]
  },
  {
   "cell_type": "code",
   "execution_count": 27,
   "metadata": {},
   "outputs": [
    {
     "data": {
      "image/png": "[encoded data removed]",
      "text/plain": [
       "<Figure size 360x360 with 1 Axes>"
      ]
     },
     "metadata": {
      "needs_background": "light"
     },
     "output_type": "display_data"
    },
    {
     "data": {
      "image/png": "[encoded data removed]",
      "text/plain": [
       "<Figure size 720x1800 with 1 Axes>"
      ]
     },
     "metadata": {
      "needs_background": "light"
     },
     "output_type": "display_data"
    },
    {
     "data": {
      "image/png": "[encoded data removed]",
      "text/plain": [
       "<Figure size 720x1800 with 1 Axes>"
      ]
     },
     "metadata": {
      "needs_background": "light"
     },
     "output_type": "display_data"
    },
    {
     "data": {
      "image/png": "[encoded data removed]",
      "text/plain": [
       "<Figure size 360x360 with 1 Axes>"
      ]
     },
     "metadata": {
      "needs_background": "light"
     },
     "output_type": "display_data"
    },
    {
     "data": {
      "image/png": "[encoded data removed]",
      "text/plain": [
       "<Figure size 360x360 with 1 Axes>"
      ]
     },
     "metadata": {
      "needs_background": "light"
     },
     "output_type": "display_data"
    },
    {
     "data": {
      "image/png": "[encoded data removed]",
      "text/plain": [
       "<Figure size 360x360 with 1 Axes>"
      ]
     },
     "metadata": {
      "needs_background": "light"
     },
     "output_type": "display_data"
    },
    {
     "data": {
      "image/png": "[encoded data removed]",
      "text/plain": [
       "<Figure size 360x360 with 1 Axes>"
      ]
     },
     "metadata": {
      "needs_background": "light"
     },
     "output_type": "display_data"
    },
    {
     "data": {
      "image/png": "[encoded data removed]",
      "text/plain": [
       "<Figure size 360x360 with 1 Axes>"
      ]
     },
     "metadata": {
      "needs_background": "light"
     },
     "output_type": "display_data"
    }
   ],
   "source": [
    "# Looping through all the categorical features to see if there is relationship between them and y variable\n",
    "features = ['gender', 'age','state', 'alcohol_intake', 'nicotine_intake', 'race', 'bmi', 'death_by_natural_cause']\n",
    "for feature in features:\n",
    "       no_unique = np.unique(df_patients[feature])\n",
    "       if len(no_unique) > 6:\n",
    "              plt.figure(figsize=(10,25))\n",
    "       else:\n",
    "            plt.figure(figsize=(5,5))  \n",
    "       sns.countplot(y=feature,data=df_patients,palette='Pastel2',hue='health_issues')\n",
    "       plt.show()"
   ]
  },
  {
   "cell_type": "markdown",
   "metadata": {},
   "source": [
    "*Transformations --> ordinal and hot-encoding of categorical features.*"
   ]
  },
  {
   "cell_type": "code",
   "execution_count": 28,
   "metadata": {},
   "outputs": [
    {
     "name": "stderr",
     "output_type": "stream",
     "text": [
      "c:\\Users\\baira\\Desktop\\DSBA Courses\\DSBA-6160 Big data design,storage,provenance\\Data Ingestion and Acquisition\\venv\\lib\\site-packages\\sklearn\\utils\\deprecation.py:87: FutureWarning:\n",
      "\n",
      "Function get_feature_names is deprecated; get_feature_names is deprecated in 1.0 and will be removed in 1.2. Please use get_feature_names_out instead.\n",
      "\n",
      "c:\\Users\\baira\\Desktop\\DSBA Courses\\DSBA-6160 Big data design,storage,provenance\\Data Ingestion and Acquisition\\venv\\lib\\site-packages\\sklearn\\utils\\deprecation.py:87: FutureWarning:\n",
      "\n",
      "Function get_feature_names is deprecated; get_feature_names is deprecated in 1.0 and will be removed in 1.2. Please use get_feature_names_out instead.\n",
      "\n",
      "c:\\Users\\baira\\Desktop\\DSBA Courses\\DSBA-6160 Big data design,storage,provenance\\Data Ingestion and Acquisition\\venv\\lib\\site-packages\\sklearn\\utils\\deprecation.py:87: FutureWarning:\n",
      "\n",
      "Function get_feature_names is deprecated; get_feature_names is deprecated in 1.0 and will be removed in 1.2. Please use get_feature_names_out instead.\n",
      "\n"
     ]
    },
    {
     "data": {
      "text/html": [
       "<div>\n",
       "<style scoped>\n",
       "    .dataframe tbody tr th:only-of-type {\n",
       "        vertical-align: middle;\n",
       "    }\n",
       "\n",
       "    .dataframe tbody tr th {\n",
       "        vertical-align: top;\n",
       "    }\n",
       "\n",
       "    .dataframe thead th {\n",
       "        text-align: right;\n",
       "    }\n",
       "</style>\n",
       "<table border=\"1\" class=\"dataframe\">\n",
       "  <thead>\n",
       "    <tr style=\"text-align: right;\">\n",
       "      <th></th>\n",
       "      <th>bmi</th>\n",
       "      <th>alcohol_intake</th>\n",
       "      <th>nicotine_intake</th>\n",
       "      <th>gender_x0_Bigender</th>\n",
       "      <th>gender_x0_Female</th>\n",
       "      <th>gender_x0_Male</th>\n",
       "      <th>gender_x0_Non-binary</th>\n",
       "      <th>state_x0_Alabama</th>\n",
       "      <th>state_x0_Alaska</th>\n",
       "      <th>state_x0_Arizona</th>\n",
       "      <th>...</th>\n",
       "      <th>state_x0_Wisconsin</th>\n",
       "      <th>state_x0_Wyoming</th>\n",
       "      <th>race_x0_African American</th>\n",
       "      <th>race_x0_Alaska Native</th>\n",
       "      <th>race_x0_Asian</th>\n",
       "      <th>race_x0_Native Hawaiian</th>\n",
       "      <th>race_x0_Pacific Islander</th>\n",
       "      <th>race_x0_White</th>\n",
       "      <th>age</th>\n",
       "      <th>death_by_natural_cause</th>\n",
       "    </tr>\n",
       "  </thead>\n",
       "  <tbody>\n",
       "    <tr>\n",
       "      <th>0</th>\n",
       "      <td>0.0</td>\n",
       "      <td>0.0</td>\n",
       "      <td>0.0</td>\n",
       "      <td>0.0</td>\n",
       "      <td>1.0</td>\n",
       "      <td>0.0</td>\n",
       "      <td>0.0</td>\n",
       "      <td>0.0</td>\n",
       "      <td>0.0</td>\n",
       "      <td>0.0</td>\n",
       "      <td>...</td>\n",
       "      <td>0.0</td>\n",
       "      <td>0.0</td>\n",
       "      <td>0.0</td>\n",
       "      <td>0.0</td>\n",
       "      <td>1.0</td>\n",
       "      <td>0.0</td>\n",
       "      <td>0.0</td>\n",
       "      <td>0.0</td>\n",
       "      <td>70</td>\n",
       "      <td>0</td>\n",
       "    </tr>\n",
       "    <tr>\n",
       "      <th>1</th>\n",
       "      <td>2.0</td>\n",
       "      <td>2.0</td>\n",
       "      <td>2.0</td>\n",
       "      <td>0.0</td>\n",
       "      <td>1.0</td>\n",
       "      <td>0.0</td>\n",
       "      <td>0.0</td>\n",
       "      <td>0.0</td>\n",
       "      <td>0.0</td>\n",
       "      <td>0.0</td>\n",
       "      <td>...</td>\n",
       "      <td>0.0</td>\n",
       "      <td>0.0</td>\n",
       "      <td>0.0</td>\n",
       "      <td>1.0</td>\n",
       "      <td>0.0</td>\n",
       "      <td>0.0</td>\n",
       "      <td>0.0</td>\n",
       "      <td>0.0</td>\n",
       "      <td>50</td>\n",
       "      <td>0</td>\n",
       "    </tr>\n",
       "    <tr>\n",
       "      <th>2</th>\n",
       "      <td>1.0</td>\n",
       "      <td>0.0</td>\n",
       "      <td>0.0</td>\n",
       "      <td>0.0</td>\n",
       "      <td>0.0</td>\n",
       "      <td>1.0</td>\n",
       "      <td>0.0</td>\n",
       "      <td>0.0</td>\n",
       "      <td>0.0</td>\n",
       "      <td>0.0</td>\n",
       "      <td>...</td>\n",
       "      <td>0.0</td>\n",
       "      <td>0.0</td>\n",
       "      <td>1.0</td>\n",
       "      <td>0.0</td>\n",
       "      <td>0.0</td>\n",
       "      <td>0.0</td>\n",
       "      <td>0.0</td>\n",
       "      <td>0.0</td>\n",
       "      <td>60</td>\n",
       "      <td>0</td>\n",
       "    </tr>\n",
       "    <tr>\n",
       "      <th>4</th>\n",
       "      <td>0.0</td>\n",
       "      <td>0.0</td>\n",
       "      <td>1.0</td>\n",
       "      <td>1.0</td>\n",
       "      <td>0.0</td>\n",
       "      <td>0.0</td>\n",
       "      <td>0.0</td>\n",
       "      <td>0.0</td>\n",
       "      <td>0.0</td>\n",
       "      <td>0.0</td>\n",
       "      <td>...</td>\n",
       "      <td>0.0</td>\n",
       "      <td>0.0</td>\n",
       "      <td>0.0</td>\n",
       "      <td>0.0</td>\n",
       "      <td>0.0</td>\n",
       "      <td>1.0</td>\n",
       "      <td>0.0</td>\n",
       "      <td>0.0</td>\n",
       "      <td>16</td>\n",
       "      <td>1</td>\n",
       "    </tr>\n",
       "    <tr>\n",
       "      <th>5</th>\n",
       "      <td>2.0</td>\n",
       "      <td>0.0</td>\n",
       "      <td>3.0</td>\n",
       "      <td>0.0</td>\n",
       "      <td>0.0</td>\n",
       "      <td>1.0</td>\n",
       "      <td>0.0</td>\n",
       "      <td>0.0</td>\n",
       "      <td>0.0</td>\n",
       "      <td>0.0</td>\n",
       "      <td>...</td>\n",
       "      <td>0.0</td>\n",
       "      <td>0.0</td>\n",
       "      <td>1.0</td>\n",
       "      <td>0.0</td>\n",
       "      <td>0.0</td>\n",
       "      <td>0.0</td>\n",
       "      <td>0.0</td>\n",
       "      <td>0.0</td>\n",
       "      <td>77</td>\n",
       "      <td>0</td>\n",
       "    </tr>\n",
       "  </tbody>\n",
       "</table>\n",
       "<p>5 rows × 66 columns</p>\n",
       "</div>"
      ],
      "text/plain": [
       "   bmi  alcohol_intake  nicotine_intake  gender_x0_Bigender  gender_x0_Female  \\\n",
       "0  0.0             0.0              0.0                 0.0               1.0   \n",
       "1  2.0             2.0              2.0                 0.0               1.0   \n",
       "2  1.0             0.0              0.0                 0.0               0.0   \n",
       "4  0.0             0.0              1.0                 1.0               0.0   \n",
       "5  2.0             0.0              3.0                 0.0               0.0   \n",
       "\n",
       "   gender_x0_Male  gender_x0_Non-binary  state_x0_Alabama  state_x0_Alaska  \\\n",
       "0             0.0                   0.0               0.0              0.0   \n",
       "1             0.0                   0.0               0.0              0.0   \n",
       "2             1.0                   0.0               0.0              0.0   \n",
       "4             0.0                   0.0               0.0              0.0   \n",
       "5             1.0                   0.0               0.0              0.0   \n",
       "\n",
       "   state_x0_Arizona  ...  state_x0_Wisconsin  state_x0_Wyoming  \\\n",
       "0               0.0  ...                 0.0               0.0   \n",
       "1               0.0  ...                 0.0               0.0   \n",
       "2               0.0  ...                 0.0               0.0   \n",
       "4               0.0  ...                 0.0               0.0   \n",
       "5               0.0  ...                 0.0               0.0   \n",
       "\n",
       "   race_x0_African American  race_x0_Alaska Native  race_x0_Asian  \\\n",
       "0                       0.0                    0.0            1.0   \n",
       "1                       0.0                    1.0            0.0   \n",
       "2                       1.0                    0.0            0.0   \n",
       "4                       0.0                    0.0            0.0   \n",
       "5                       1.0                    0.0            0.0   \n",
       "\n",
       "   race_x0_Native Hawaiian  race_x0_Pacific Islander  race_x0_White  age  \\\n",
       "0                      0.0                       0.0            0.0   70   \n",
       "1                      0.0                       0.0            0.0   50   \n",
       "2                      0.0                       0.0            0.0   60   \n",
       "4                      1.0                       0.0            0.0   16   \n",
       "5                      0.0                       0.0            0.0   77   \n",
       "\n",
       "   death_by_natural_cause  \n",
       "0                       0  \n",
       "1                       0  \n",
       "2                       0  \n",
       "4                       1  \n",
       "5                       0  \n",
       "\n",
       "[5 rows x 66 columns]"
      ]
     },
     "execution_count": 28,
     "metadata": {},
     "output_type": "execute_result"
    }
   ],
   "source": [
    "# Predictor variable features \n",
    "features = ['gender', 'age','state', 'alcohol_intake', 'nicotine_intake', 'race', 'bmi', 'death_by_natural_cause']\n",
    "# Predictor features\n",
    "X = df_patients[features]\n",
    "# Response feature\n",
    "Y = df_patients['health_issues']\n",
    "# Order in which we want ordinal encoding, left to right will have order as lowest to highest\n",
    "categories = [\n",
    "    ['Normal', 'Under weight', 'Over weight', 'Obese'], #bmi\n",
    "    ['Never', 'Occasionally', 'Often', 'Daily'],        #alcohol_intake\n",
    "    ['Never', 'Occasionally', 'Often', 'Daily']         #nicotine_intake\n",
    "]\n",
    "# A DataFrame mapper created to group together all the different transformations. A parameter df_out set to True, so that transformed\n",
    "# output is in dataframe\n",
    "mapper = DataFrameMapper([\n",
    "    (\n",
    "        ['bmi'],\n",
    "        OrdinalEncoder(handle_unknown=\"use_encoded_value\", unknown_value=np.nan, categories=[categories[0]])\n",
    "        \n",
    "    ),\n",
    "    (\n",
    "        ['alcohol_intake'],\n",
    "        OrdinalEncoder(handle_unknown=\"use_encoded_value\", unknown_value=np.nan, categories=[categories[1]])\n",
    "        \n",
    "    ),\n",
    "    (\n",
    "        ['nicotine_intake'],\n",
    "        OrdinalEncoder(handle_unknown=\"use_encoded_value\", unknown_value=np.nan, categories=[categories[2]])\n",
    "        \n",
    "    ),\n",
    "    (\n",
    "        ['gender'],\n",
    "        OneHotEncoder(handle_unknown=\"ignore\"),\n",
    "    ),\n",
    "    (\n",
    "        ['state'],\n",
    "        OneHotEncoder(handle_unknown=\"ignore\"),\n",
    "    ),\n",
    "    (\n",
    "        ['race'],\n",
    "        OneHotEncoder(handle_unknown=\"ignore\"),\n",
    "    ),\n",
    "    (\n",
    "        'age',\n",
    "        None\n",
    "    ),\n",
    "    (\n",
    "        'death_by_natural_cause',\n",
    "        None\n",
    "    )   \n",
    "], df_out=True)\n",
    "# Applying the transformation\n",
    "df_transformed_data = mapper.fit_transform(X)\n",
    "# Displaying the transformed data\n",
    "df_transformed_data.head()"
   ]
  },
  {
   "cell_type": "markdown",
   "metadata": {},
   "source": [
    "****Categorical Feature Selection via Chi-Square****"
   ]
  },
  {
   "cell_type": "code",
   "execution_count": 29,
   "metadata": {},
   "outputs": [
    {
     "data": {
      "text/plain": [
       "{'gender': 4, 'state': 51, 'race': 6}"
      ]
     },
     "execution_count": 29,
     "metadata": {},
     "output_type": "execute_result"
    }
   ],
   "source": [
    "# get the count of unique values of gender,state and race and store it in dictionary\n",
    "dict_unique = {}\n",
    "col_names = ['gender','state','race']\n",
    "for col in col_names:\n",
    "    tot_unique = len(np.unique(df_patients[col]))\n",
    "    dict_unique[col]= tot_unique\n",
    "dict_unique"
   ]
  },
  {
   "cell_type": "code",
   "execution_count": 30,
   "metadata": {},
   "outputs": [
    {
     "data": {
      "text/html": [
       "<div>\n",
       "<style scoped>\n",
       "    .dataframe tbody tr th:only-of-type {\n",
       "        vertical-align: middle;\n",
       "    }\n",
       "\n",
       "    .dataframe tbody tr th {\n",
       "        vertical-align: top;\n",
       "    }\n",
       "\n",
       "    .dataframe thead th {\n",
       "        text-align: right;\n",
       "    }\n",
       "</style>\n",
       "<table border=\"1\" class=\"dataframe\">\n",
       "  <thead>\n",
       "    <tr style=\"text-align: right;\">\n",
       "      <th></th>\n",
       "      <th>Pair</th>\n",
       "      <th>Hypothesis</th>\n",
       "      <th>p-value</th>\n",
       "    </tr>\n",
       "  </thead>\n",
       "  <tbody>\n",
       "    <tr>\n",
       "      <th>0</th>\n",
       "      <td>gender-Bigender</td>\n",
       "      <td>Fail to Reject Null Hypothesis</td>\n",
       "      <td>0.109648</td>\n",
       "    </tr>\n",
       "    <tr>\n",
       "      <th>1</th>\n",
       "      <td>gender-Female</td>\n",
       "      <td>Fail to Reject Null Hypothesis</td>\n",
       "      <td>0.549349</td>\n",
       "    </tr>\n",
       "    <tr>\n",
       "      <th>2</th>\n",
       "      <td>gender-Male</td>\n",
       "      <td>Fail to Reject Null Hypothesis</td>\n",
       "      <td>0.988541</td>\n",
       "    </tr>\n",
       "    <tr>\n",
       "      <th>3</th>\n",
       "      <td>gender-Non-binary</td>\n",
       "      <td>Fail to Reject Null Hypothesis</td>\n",
       "      <td>0.977362</td>\n",
       "    </tr>\n",
       "    <tr>\n",
       "      <th>4</th>\n",
       "      <td>age</td>\n",
       "      <td>Fail to Reject Null Hypothesis</td>\n",
       "      <td>0.961871</td>\n",
       "    </tr>\n",
       "    <tr>\n",
       "      <th>5</th>\n",
       "      <td>state-Alabama</td>\n",
       "      <td>Fail to Reject Null Hypothesis</td>\n",
       "      <td>0.438456</td>\n",
       "    </tr>\n",
       "    <tr>\n",
       "      <th>6</th>\n",
       "      <td>state-Alaska</td>\n",
       "      <td>Fail to Reject Null Hypothesis</td>\n",
       "      <td>0.793519</td>\n",
       "    </tr>\n",
       "    <tr>\n",
       "      <th>7</th>\n",
       "      <td>state-Arizona</td>\n",
       "      <td>Fail to Reject Null Hypothesis</td>\n",
       "      <td>0.253576</td>\n",
       "    </tr>\n",
       "    <tr>\n",
       "      <th>8</th>\n",
       "      <td>state-Arkansas</td>\n",
       "      <td>Fail to Reject Null Hypothesis</td>\n",
       "      <td>0.720164</td>\n",
       "    </tr>\n",
       "    <tr>\n",
       "      <th>9</th>\n",
       "      <td>state-California</td>\n",
       "      <td>Fail to Reject Null Hypothesis</td>\n",
       "      <td>0.996008</td>\n",
       "    </tr>\n",
       "    <tr>\n",
       "      <th>10</th>\n",
       "      <td>state-Colorado</td>\n",
       "      <td>Fail to Reject Null Hypothesis</td>\n",
       "      <td>0.987357</td>\n",
       "    </tr>\n",
       "    <tr>\n",
       "      <th>11</th>\n",
       "      <td>state-Connecticut</td>\n",
       "      <td>Fail to Reject Null Hypothesis</td>\n",
       "      <td>0.97372</td>\n",
       "    </tr>\n",
       "    <tr>\n",
       "      <th>12</th>\n",
       "      <td>state-Delaware</td>\n",
       "      <td>Fail to Reject Null Hypothesis</td>\n",
       "      <td>0.870193</td>\n",
       "    </tr>\n",
       "    <tr>\n",
       "      <th>13</th>\n",
       "      <td>state-District of Columbia</td>\n",
       "      <td>Fail to Reject Null Hypothesis</td>\n",
       "      <td>1.0</td>\n",
       "    </tr>\n",
       "    <tr>\n",
       "      <th>14</th>\n",
       "      <td>state-Florida</td>\n",
       "      <td>Fail to Reject Null Hypothesis</td>\n",
       "      <td>0.878473</td>\n",
       "    </tr>\n",
       "    <tr>\n",
       "      <th>15</th>\n",
       "      <td>state-Georgia</td>\n",
       "      <td>Fail to Reject Null Hypothesis</td>\n",
       "      <td>0.01633</td>\n",
       "    </tr>\n",
       "    <tr>\n",
       "      <th>16</th>\n",
       "      <td>state-Hawaii</td>\n",
       "      <td>Fail to Reject Null Hypothesis</td>\n",
       "      <td>1.0</td>\n",
       "    </tr>\n",
       "    <tr>\n",
       "      <th>17</th>\n",
       "      <td>state-Idaho</td>\n",
       "      <td>Fail to Reject Null Hypothesis</td>\n",
       "      <td>0.527152</td>\n",
       "    </tr>\n",
       "    <tr>\n",
       "      <th>18</th>\n",
       "      <td>state-Illinois</td>\n",
       "      <td>Fail to Reject Null Hypothesis</td>\n",
       "      <td>0.644662</td>\n",
       "    </tr>\n",
       "    <tr>\n",
       "      <th>19</th>\n",
       "      <td>state-Indiana</td>\n",
       "      <td>Fail to Reject Null Hypothesis</td>\n",
       "      <td>0.66952</td>\n",
       "    </tr>\n",
       "    <tr>\n",
       "      <th>20</th>\n",
       "      <td>state-Iowa</td>\n",
       "      <td>Fail to Reject Null Hypothesis</td>\n",
       "      <td>0.13205</td>\n",
       "    </tr>\n",
       "    <tr>\n",
       "      <th>21</th>\n",
       "      <td>state-Kansas</td>\n",
       "      <td>Fail to Reject Null Hypothesis</td>\n",
       "      <td>0.928406</td>\n",
       "    </tr>\n",
       "    <tr>\n",
       "      <th>22</th>\n",
       "      <td>state-Kentucky</td>\n",
       "      <td>Fail to Reject Null Hypothesis</td>\n",
       "      <td>0.893184</td>\n",
       "    </tr>\n",
       "    <tr>\n",
       "      <th>23</th>\n",
       "      <td>state-Louisiana</td>\n",
       "      <td>Fail to Reject Null Hypothesis</td>\n",
       "      <td>1.0</td>\n",
       "    </tr>\n",
       "    <tr>\n",
       "      <th>24</th>\n",
       "      <td>state-Maine</td>\n",
       "      <td>Fail to Reject Null Hypothesis</td>\n",
       "      <td>0.286324</td>\n",
       "    </tr>\n",
       "    <tr>\n",
       "      <th>25</th>\n",
       "      <td>state-Maryland</td>\n",
       "      <td>Fail to Reject Null Hypothesis</td>\n",
       "      <td>0.839072</td>\n",
       "    </tr>\n",
       "    <tr>\n",
       "      <th>26</th>\n",
       "      <td>state-Massachusetts</td>\n",
       "      <td>Fail to Reject Null Hypothesis</td>\n",
       "      <td>0.637589</td>\n",
       "    </tr>\n",
       "    <tr>\n",
       "      <th>27</th>\n",
       "      <td>state-Michigan</td>\n",
       "      <td>Fail to Reject Null Hypothesis</td>\n",
       "      <td>0.069648</td>\n",
       "    </tr>\n",
       "    <tr>\n",
       "      <th>28</th>\n",
       "      <td>state-Minnesota</td>\n",
       "      <td>Fail to Reject Null Hypothesis</td>\n",
       "      <td>0.706863</td>\n",
       "    </tr>\n",
       "    <tr>\n",
       "      <th>29</th>\n",
       "      <td>state-Mississippi</td>\n",
       "      <td>Fail to Reject Null Hypothesis</td>\n",
       "      <td>0.339886</td>\n",
       "    </tr>\n",
       "    <tr>\n",
       "      <th>30</th>\n",
       "      <td>state-Missouri</td>\n",
       "      <td>Fail to Reject Null Hypothesis</td>\n",
       "      <td>0.706863</td>\n",
       "    </tr>\n",
       "    <tr>\n",
       "      <th>31</th>\n",
       "      <td>state-Montana</td>\n",
       "      <td>Fail to Reject Null Hypothesis</td>\n",
       "      <td>0.482494</td>\n",
       "    </tr>\n",
       "    <tr>\n",
       "      <th>32</th>\n",
       "      <td>state-Nebraska</td>\n",
       "      <td>Fail to Reject Null Hypothesis</td>\n",
       "      <td>0.785768</td>\n",
       "    </tr>\n",
       "    <tr>\n",
       "      <th>33</th>\n",
       "      <td>state-Nevada</td>\n",
       "      <td>Fail to Reject Null Hypothesis</td>\n",
       "      <td>0.175819</td>\n",
       "    </tr>\n",
       "    <tr>\n",
       "      <th>34</th>\n",
       "      <td>state-New Hampshire</td>\n",
       "      <td>Fail to Reject Null Hypothesis</td>\n",
       "      <td>0.13662</td>\n",
       "    </tr>\n",
       "    <tr>\n",
       "      <th>35</th>\n",
       "      <td>state-New Jersey</td>\n",
       "      <td>Fail to Reject Null Hypothesis</td>\n",
       "      <td>0.741756</td>\n",
       "    </tr>\n",
       "    <tr>\n",
       "      <th>36</th>\n",
       "      <td>state-New Mexico</td>\n",
       "      <td>Fail to Reject Null Hypothesis</td>\n",
       "      <td>0.860536</td>\n",
       "    </tr>\n",
       "    <tr>\n",
       "      <th>37</th>\n",
       "      <td>state-New York</td>\n",
       "      <td>Fail to Reject Null Hypothesis</td>\n",
       "      <td>0.543231</td>\n",
       "    </tr>\n",
       "    <tr>\n",
       "      <th>38</th>\n",
       "      <td>state-North Carolina</td>\n",
       "      <td>Fail to Reject Null Hypothesis</td>\n",
       "      <td>0.513362</td>\n",
       "    </tr>\n",
       "    <tr>\n",
       "      <th>39</th>\n",
       "      <td>state-North Dakota</td>\n",
       "      <td>Fail to Reject Null Hypothesis</td>\n",
       "      <td>0.665007</td>\n",
       "    </tr>\n",
       "    <tr>\n",
       "      <th>40</th>\n",
       "      <td>state-Ohio</td>\n",
       "      <td>Fail to Reject Null Hypothesis</td>\n",
       "      <td>0.513628</td>\n",
       "    </tr>\n",
       "    <tr>\n",
       "      <th>41</th>\n",
       "      <td>state-Oklahoma</td>\n",
       "      <td>Fail to Reject Null Hypothesis</td>\n",
       "      <td>0.821202</td>\n",
       "    </tr>\n",
       "    <tr>\n",
       "      <th>42</th>\n",
       "      <td>state-Oregon</td>\n",
       "      <td>Fail to Reject Null Hypothesis</td>\n",
       "      <td>0.328165</td>\n",
       "    </tr>\n",
       "    <tr>\n",
       "      <th>43</th>\n",
       "      <td>state-Pennsylvania</td>\n",
       "      <td>Fail to Reject Null Hypothesis</td>\n",
       "      <td>0.048702</td>\n",
       "    </tr>\n",
       "    <tr>\n",
       "      <th>44</th>\n",
       "      <td>state-Rhode Island</td>\n",
       "      <td>Fail to Reject Null Hypothesis</td>\n",
       "      <td>1.0</td>\n",
       "    </tr>\n",
       "    <tr>\n",
       "      <th>45</th>\n",
       "      <td>state-South Carolina</td>\n",
       "      <td>Fail to Reject Null Hypothesis</td>\n",
       "      <td>0.890193</td>\n",
       "    </tr>\n",
       "    <tr>\n",
       "      <th>46</th>\n",
       "      <td>state-South Dakota</td>\n",
       "      <td>Fail to Reject Null Hypothesis</td>\n",
       "      <td>1.0</td>\n",
       "    </tr>\n",
       "    <tr>\n",
       "      <th>47</th>\n",
       "      <td>state-Tennessee</td>\n",
       "      <td>Fail to Reject Null Hypothesis</td>\n",
       "      <td>0.346507</td>\n",
       "    </tr>\n",
       "    <tr>\n",
       "      <th>48</th>\n",
       "      <td>state-Texas</td>\n",
       "      <td>Fail to Reject Null Hypothesis</td>\n",
       "      <td>0.600503</td>\n",
       "    </tr>\n",
       "    <tr>\n",
       "      <th>49</th>\n",
       "      <td>state-Utah</td>\n",
       "      <td>Fail to Reject Null Hypothesis</td>\n",
       "      <td>0.497855</td>\n",
       "    </tr>\n",
       "    <tr>\n",
       "      <th>50</th>\n",
       "      <td>state-Vermont</td>\n",
       "      <td>Fail to Reject Null Hypothesis</td>\n",
       "      <td>0.525821</td>\n",
       "    </tr>\n",
       "    <tr>\n",
       "      <th>51</th>\n",
       "      <td>state-Virginia</td>\n",
       "      <td>Fail to Reject Null Hypothesis</td>\n",
       "      <td>0.30396</td>\n",
       "    </tr>\n",
       "    <tr>\n",
       "      <th>52</th>\n",
       "      <td>state-Washington</td>\n",
       "      <td>Fail to Reject Null Hypothesis</td>\n",
       "      <td>0.639789</td>\n",
       "    </tr>\n",
       "    <tr>\n",
       "      <th>53</th>\n",
       "      <td>state-West Virginia</td>\n",
       "      <td>Fail to Reject Null Hypothesis</td>\n",
       "      <td>0.058925</td>\n",
       "    </tr>\n",
       "    <tr>\n",
       "      <th>54</th>\n",
       "      <td>state-Wisconsin</td>\n",
       "      <td>Fail to Reject Null Hypothesis</td>\n",
       "      <td>0.122758</td>\n",
       "    </tr>\n",
       "    <tr>\n",
       "      <th>55</th>\n",
       "      <td>state-Wyoming</td>\n",
       "      <td>Fail to Reject Null Hypothesis</td>\n",
       "      <td>1.0</td>\n",
       "    </tr>\n",
       "    <tr>\n",
       "      <th>56</th>\n",
       "      <td>alcohol_intake</td>\n",
       "      <td>Reject Null Hypothesis</td>\n",
       "      <td>0.0</td>\n",
       "    </tr>\n",
       "    <tr>\n",
       "      <th>57</th>\n",
       "      <td>nicotine_intake</td>\n",
       "      <td>Reject Null Hypothesis</td>\n",
       "      <td>0.0</td>\n",
       "    </tr>\n",
       "    <tr>\n",
       "      <th>58</th>\n",
       "      <td>race-African American</td>\n",
       "      <td>Fail to Reject Null Hypothesis</td>\n",
       "      <td>1.0</td>\n",
       "    </tr>\n",
       "    <tr>\n",
       "      <th>59</th>\n",
       "      <td>race-Alaska Native</td>\n",
       "      <td>Fail to Reject Null Hypothesis</td>\n",
       "      <td>0.629102</td>\n",
       "    </tr>\n",
       "    <tr>\n",
       "      <th>60</th>\n",
       "      <td>race-Asian</td>\n",
       "      <td>Fail to Reject Null Hypothesis</td>\n",
       "      <td>0.890328</td>\n",
       "    </tr>\n",
       "    <tr>\n",
       "      <th>61</th>\n",
       "      <td>race-Native Hawaiian</td>\n",
       "      <td>Fail to Reject Null Hypothesis</td>\n",
       "      <td>0.697173</td>\n",
       "    </tr>\n",
       "    <tr>\n",
       "      <th>62</th>\n",
       "      <td>race-Pacific Islander</td>\n",
       "      <td>Fail to Reject Null Hypothesis</td>\n",
       "      <td>0.999476</td>\n",
       "    </tr>\n",
       "    <tr>\n",
       "      <th>63</th>\n",
       "      <td>race-White</td>\n",
       "      <td>Fail to Reject Null Hypothesis</td>\n",
       "      <td>0.778492</td>\n",
       "    </tr>\n",
       "    <tr>\n",
       "      <th>64</th>\n",
       "      <td>bmi</td>\n",
       "      <td>Reject Null Hypothesis</td>\n",
       "      <td>0.031025</td>\n",
       "    </tr>\n",
       "    <tr>\n",
       "      <th>65</th>\n",
       "      <td>death_by_natural_cause</td>\n",
       "      <td>Fail to Reject Null Hypothesis</td>\n",
       "      <td>0.193662</td>\n",
       "    </tr>\n",
       "  </tbody>\n",
       "</table>\n",
       "</div>"
      ],
      "text/plain": [
       "                          Pair                      Hypothesis   p-value\n",
       "0              gender-Bigender  Fail to Reject Null Hypothesis  0.109648\n",
       "1                gender-Female  Fail to Reject Null Hypothesis  0.549349\n",
       "2                  gender-Male  Fail to Reject Null Hypothesis  0.988541\n",
       "3            gender-Non-binary  Fail to Reject Null Hypothesis  0.977362\n",
       "4                          age  Fail to Reject Null Hypothesis  0.961871\n",
       "5                state-Alabama  Fail to Reject Null Hypothesis  0.438456\n",
       "6                 state-Alaska  Fail to Reject Null Hypothesis  0.793519\n",
       "7                state-Arizona  Fail to Reject Null Hypothesis  0.253576\n",
       "8               state-Arkansas  Fail to Reject Null Hypothesis  0.720164\n",
       "9             state-California  Fail to Reject Null Hypothesis  0.996008\n",
       "10              state-Colorado  Fail to Reject Null Hypothesis  0.987357\n",
       "11           state-Connecticut  Fail to Reject Null Hypothesis   0.97372\n",
       "12              state-Delaware  Fail to Reject Null Hypothesis  0.870193\n",
       "13  state-District of Columbia  Fail to Reject Null Hypothesis       1.0\n",
       "14               state-Florida  Fail to Reject Null Hypothesis  0.878473\n",
       "15               state-Georgia  Fail to Reject Null Hypothesis   0.01633\n",
       "16                state-Hawaii  Fail to Reject Null Hypothesis       1.0\n",
       "17                 state-Idaho  Fail to Reject Null Hypothesis  0.527152\n",
       "18              state-Illinois  Fail to Reject Null Hypothesis  0.644662\n",
       "19               state-Indiana  Fail to Reject Null Hypothesis   0.66952\n",
       "20                  state-Iowa  Fail to Reject Null Hypothesis   0.13205\n",
       "21                state-Kansas  Fail to Reject Null Hypothesis  0.928406\n",
       "22              state-Kentucky  Fail to Reject Null Hypothesis  0.893184\n",
       "23             state-Louisiana  Fail to Reject Null Hypothesis       1.0\n",
       "24                 state-Maine  Fail to Reject Null Hypothesis  0.286324\n",
       "25              state-Maryland  Fail to Reject Null Hypothesis  0.839072\n",
       "26         state-Massachusetts  Fail to Reject Null Hypothesis  0.637589\n",
       "27              state-Michigan  Fail to Reject Null Hypothesis  0.069648\n",
       "28             state-Minnesota  Fail to Reject Null Hypothesis  0.706863\n",
       "29           state-Mississippi  Fail to Reject Null Hypothesis  0.339886\n",
       "30              state-Missouri  Fail to Reject Null Hypothesis  0.706863\n",
       "31               state-Montana  Fail to Reject Null Hypothesis  0.482494\n",
       "32              state-Nebraska  Fail to Reject Null Hypothesis  0.785768\n",
       "33                state-Nevada  Fail to Reject Null Hypothesis  0.175819\n",
       "34         state-New Hampshire  Fail to Reject Null Hypothesis   0.13662\n",
       "35            state-New Jersey  Fail to Reject Null Hypothesis  0.741756\n",
       "36            state-New Mexico  Fail to Reject Null Hypothesis  0.860536\n",
       "37              state-New York  Fail to Reject Null Hypothesis  0.543231\n",
       "38        state-North Carolina  Fail to Reject Null Hypothesis  0.513362\n",
       "39          state-North Dakota  Fail to Reject Null Hypothesis  0.665007\n",
       "40                  state-Ohio  Fail to Reject Null Hypothesis  0.513628\n",
       "41              state-Oklahoma  Fail to Reject Null Hypothesis  0.821202\n",
       "42                state-Oregon  Fail to Reject Null Hypothesis  0.328165\n",
       "43          state-Pennsylvania  Fail to Reject Null Hypothesis  0.048702\n",
       "44          state-Rhode Island  Fail to Reject Null Hypothesis       1.0\n",
       "45        state-South Carolina  Fail to Reject Null Hypothesis  0.890193\n",
       "46          state-South Dakota  Fail to Reject Null Hypothesis       1.0\n",
       "47             state-Tennessee  Fail to Reject Null Hypothesis  0.346507\n",
       "48                 state-Texas  Fail to Reject Null Hypothesis  0.600503\n",
       "49                  state-Utah  Fail to Reject Null Hypothesis  0.497855\n",
       "50               state-Vermont  Fail to Reject Null Hypothesis  0.525821\n",
       "51              state-Virginia  Fail to Reject Null Hypothesis   0.30396\n",
       "52            state-Washington  Fail to Reject Null Hypothesis  0.639789\n",
       "53         state-West Virginia  Fail to Reject Null Hypothesis  0.058925\n",
       "54             state-Wisconsin  Fail to Reject Null Hypothesis  0.122758\n",
       "55               state-Wyoming  Fail to Reject Null Hypothesis       1.0\n",
       "56              alcohol_intake          Reject Null Hypothesis       0.0\n",
       "57             nicotine_intake          Reject Null Hypothesis       0.0\n",
       "58       race-African American  Fail to Reject Null Hypothesis       1.0\n",
       "59          race-Alaska Native  Fail to Reject Null Hypothesis  0.629102\n",
       "60                  race-Asian  Fail to Reject Null Hypothesis  0.890328\n",
       "61        race-Native Hawaiian  Fail to Reject Null Hypothesis  0.697173\n",
       "62       race-Pacific Islander  Fail to Reject Null Hypothesis  0.999476\n",
       "63                  race-White  Fail to Reject Null Hypothesis  0.778492\n",
       "64                         bmi          Reject Null Hypothesis  0.031025\n",
       "65      death_by_natural_cause  Fail to Reject Null Hypothesis  0.193662"
      ]
     },
     "execution_count": 30,
     "metadata": {},
     "output_type": "execute_result"
    }
   ],
   "source": [
    "check = {}\n",
    "pValues = {}\n",
    "for feature in features:\n",
    "    if feature in dict_unique:\n",
    "        bon_p_value = 0.05/dict_unique[feature]\n",
    "        nominal_feature_colnames = df_transformed_data.columns[pd.Series(df_transformed_data.columns).str.startswith(feature)]\n",
    "        for col in nominal_feature_colnames:\n",
    "            p_value = chi2_contingency(pd.crosstab(df_transformed_data[col], Y))[1]\n",
    "            if p_value < bon_p_value:\n",
    "                check['{}-{}'.format(feature, col.split('_')[-1])] = 'Reject Null Hypothesis'\n",
    "                pValues['{}-{}'.format(feature, col.split('_')[-1])] = p_value\n",
    "            else:\n",
    "                check['{}-{}'.format(feature, col.split('_')[-1])] = 'Fail to Reject Null Hypothesis'\n",
    "                pValues['{}-{}'.format(feature, col.split('_')[-1])] = p_value\n",
    "    else:\n",
    "        p_value = chi2_contingency(pd.crosstab(df_transformed_data[feature], Y))[1]\n",
    "        if p_value < 0.05:\n",
    "            check['{}'.format(feature)] = 'Reject Null Hypothesis'\n",
    "            pValues['{}'.format(feature)] = p_value\n",
    "        else:\n",
    "            check['{}'.format(feature)] = 'Fail to Reject Null Hypothesis'\n",
    "            pValues['{}'.format(feature)] = p_value\n",
    "            \n",
    "res_chi_ph = pd.DataFrame(data=[check.keys(), check.values(), pValues.values()]).T\n",
    "res_chi_ph.columns = ['Pair', 'Hypothesis','p-value']\n",
    "pd.set_option('display.max_rows',None)\n",
    "res_chi_ph"
   ]
  },
  {
   "cell_type": "code",
   "execution_count": 31,
   "metadata": {},
   "outputs": [],
   "source": [
    "# Keeping only significant variables\n",
    "df_significant = df_transformed_data[['alcohol_intake','nicotine_intake','bmi']]"
   ]
  },
  {
   "cell_type": "markdown",
   "metadata": {},
   "source": [
    "*Applying models to significant variables*"
   ]
  },
  {
   "cell_type": "code",
   "execution_count": 32,
   "metadata": {},
   "outputs": [],
   "source": [
    "# The number of splits we want for our dataset is 10 --> 9 parts of it will be used in training and 1 part in testing. This process will repeat\n",
    "# till every portion has been used on training and testing\n",
    "folds = StratifiedKFold(n_splits=10)\n",
    "# Array for each model to hold scores for 10 different test data portions\n",
    "scores_gradient = []\n",
    "scores_random_forest = []\n",
    "scores_decision_tree = []\n",
    "scores_logistic_regression = []\n",
    "# function to calculate score\n",
    "def get_score(model,X_train,X_test,y_train,y_test):\n",
    "    model.fit(X_train,y_train)    \n",
    "    return model.score(X_test,y_test)\n",
    "\n",
    "for train_index,test_index in folds.split(df_significant,Y):\n",
    "    # For every fold, reading data at indexes and dumping into train and test variables for predictors and response variable\n",
    "    X_train,X_test,y_train,y_test = df_significant.iloc[train_index],df_significant.iloc[test_index]\\\n",
    "                                    ,Y.iloc[train_index],Y.iloc[test_index] \n",
    "    # Gradient Boosting                                   \n",
    "    scores_gradient.append(get_score(HistGradientBoostingClassifier(random_state=42),X_train,X_test,y_train,y_test))\n",
    "    # Random Forest\n",
    "    scores_random_forest.append(get_score(RandomForestClassifier(50),X_train,X_test,y_train,y_test))\n",
    "    # Descison Tree\n",
    "    scores_decision_tree.append(get_score(DecisionTreeClassifier(),X_train,X_test,y_train,y_test))\n",
    "    # Logistic Regression\n",
    "    scores_logistic_regression.append(get_score(LogisticRegression(max_iter=1000),X_train,X_test,y_train,y_test))"
   ]
  },
  {
   "cell_type": "markdown",
   "metadata": {},
   "source": [
    "*Printing scores of each fold for each model*"
   ]
  },
  {
   "cell_type": "code",
   "execution_count": 33,
   "metadata": {},
   "outputs": [
    {
     "data": {
      "text/plain": [
       "[0.6378132118451025,\n",
       " 0.6264236902050114,\n",
       " 0.6287015945330297,\n",
       " 0.6492027334851936,\n",
       " 0.5990888382687927,\n",
       " 0.6047835990888383,\n",
       " 0.6195899772209568,\n",
       " 0.6400911161731208,\n",
       " 0.5997719498289624,\n",
       " 0.6259977194982896]"
      ]
     },
     "execution_count": 33,
     "metadata": {},
     "output_type": "execute_result"
    }
   ],
   "source": [
    "scores_gradient"
   ]
  },
  {
   "cell_type": "code",
   "execution_count": 34,
   "metadata": {},
   "outputs": [
    {
     "data": {
      "text/plain": [
       "[0.6389521640091116,\n",
       " 0.6412300683371298,\n",
       " 0.6287015945330297,\n",
       " 0.6594533029612756,\n",
       " 0.5945330296127562,\n",
       " 0.6047835990888383,\n",
       " 0.6207289293849658,\n",
       " 0.6343963553530751,\n",
       " 0.6043329532497149,\n",
       " 0.6225769669327252]"
      ]
     },
     "execution_count": 34,
     "metadata": {},
     "output_type": "execute_result"
    }
   ],
   "source": [
    "scores_random_forest"
   ]
  },
  {
   "cell_type": "code",
   "execution_count": 35,
   "metadata": {},
   "outputs": [
    {
     "data": {
      "text/plain": [
       "[0.6389521640091116,\n",
       " 0.6264236902050114,\n",
       " 0.6287015945330297,\n",
       " 0.6537585421412301,\n",
       " 0.5990888382687927,\n",
       " 0.6047835990888383,\n",
       " 0.6173120728929385,\n",
       " 0.6378132118451025,\n",
       " 0.6009122006841505,\n",
       " 0.6259977194982896]"
      ]
     },
     "execution_count": 35,
     "metadata": {},
     "output_type": "execute_result"
    }
   ],
   "source": [
    "scores_decision_tree"
   ]
  },
  {
   "cell_type": "code",
   "execution_count": 36,
   "metadata": {},
   "outputs": [
    {
     "data": {
      "text/plain": [
       "[0.5945330296127562,\n",
       " 0.6116173120728929,\n",
       " 0.6343963553530751,\n",
       " 0.6138952164009112,\n",
       " 0.6252847380410023,\n",
       " 0.6264236902050114,\n",
       " 0.6298405466970387,\n",
       " 0.6412300683371298,\n",
       " 0.5849486887115165,\n",
       " 0.6123147092360319]"
      ]
     },
     "execution_count": 36,
     "metadata": {},
     "output_type": "execute_result"
    }
   ],
   "source": [
    "scores_logistic_regression"
   ]
  }
 ],
 "metadata": {
  "interpreter": {
   "hash": "cc281c585d346c6e2055e58e7f57a1b20103b3854915a85a72c9d74023b0bae1"
  },
  "kernelspec": {
   "display_name": "Python 3.9.5 ('venv': venv)",
   "language": "python",
   "name": "python3"
  },
  "language_info": {
   "codemirror_mode": {
    "name": "ipython",
    "version": 3
   },
   "file_extension": ".py",
   "mimetype": "text/x-python",
   "name": "python",
   "nbconvert_exporter": "python",
   "pygments_lexer": "ipython3",
   "version": "3.9.5"
  },
  "orig_nbformat": 4
 },
 "nbformat": 4,
 "nbformat_minor": 2
}
